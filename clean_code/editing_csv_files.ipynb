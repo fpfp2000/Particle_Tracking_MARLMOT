{
 "cells": [
  {
   "cell_type": "code",
   "execution_count": 1,
   "metadata": {},
   "outputs": [],
   "source": [
    "import os\n",
    "import pandas as pd\n",
    "from glob import glob"
   ]
  },
  {
   "cell_type": "markdown",
   "metadata": {},
   "source": [
    "* bb_left - x_gp3 \n",
    "* bb_top - y_gp3\n",
    "* bb_width - absolute_diff_x\n",
    "* bb_height - absolute_diff_y"
   ]
  },
  {
   "cell_type": "code",
   "execution_count": 2,
   "metadata": {},
   "outputs": [],
   "source": [
    "# Define the input and output folders\n",
    "input_folder = '/Users/fpfp2/Desktop/Masters Thesis/ParticleTracking/RodTracker/src/RodTracker/resources/example_data/csv'\n",
    "output_folder = '/Users/fpfp2/Desktop/Masters Thesis/ParticleTracking/RodTracker/src/RodTracker/resources/example_data/csv_modified'\n",
    "\n",
    "# Create the output folder if it doesn't exist\n",
    "if not os.path.exists(output_folder):\n",
    "    os.makedirs(output_folder)\n",
    "\n",
    "# Define the column names for the transformation\n",
    "# column_names = {\n",
    "#     '{}': {\n",
    "#         'column_x1_name': \"x1cam1\",\n",
    "#         'column_x2_name': \"x2cam1\",\n",
    "#         'column_y1_name': \"y1cam1\",\n",
    "#         'column_y2_name': \"y2cam1\"\n",
    "#     },\n",
    "    # Add more entries for other files if needed\n",
    "# }\n",
    "\n",
    "def add_columns(input_file, output_file, column_x1_name, column_x2_name, column_y1_name, column_y2_name):\n",
    "    # Read the CSV file into a DataFrame\n",
    "    gt = pd.read_csv(input_file, skiprows=1, usecols=[11, 12, 13, 14, 19, 22], header=None)\n",
    "    gt.columns = [\"x1cam1\", \"y1cam1\", \"x2cam1\", \"y2cam1\", \"frame\", \"id\"]\n",
    "\n",
    "    # Find the smallest value from two specific columns for each row\n",
    "    smallest_values = gt[[column_x1_name, column_x2_name]].min(axis=1)\n",
    "    biggest_values = gt[[column_y1_name, column_y2_name]].min(axis=1)\n",
    "    absolute_diff_x = abs(gt[column_x1_name] - gt[column_x2_name])\n",
    "    absolute_diff_y = abs(gt[column_y1_name] - gt[column_y2_name])\n",
    "\n",
    "    # Add new columns with the calculated values\n",
    "    gt['x_gp3'] = smallest_values\n",
    "    gt['y_gp3'] = biggest_values\n",
    "    gt['absolute_diff_x'] = absolute_diff_x\n",
    "    gt['absolute_diff_y'] = absolute_diff_y\n",
    "\n",
    "    # Write modified data to a new CSV file with the additional columns\n",
    "    gt.to_csv(output_file, index=False)\n",
    "\n",
    "# Iterate over each input file in the folder\n",
    "for input_file in os.listdir(input_folder):\n",
    "    if input_file.endswith('.csv'):\n",
    "        input_file_path = os.path.join(input_folder, input_file)\n",
    "        output_file_path = os.path.join(output_folder, input_file.replace('.csv', '_modified.csv'))\n",
    "        \n",
    "        # Get column names for this file\n",
    "        # columns = column_names.get(input_file, {})\n",
    "        \n",
    "        # Apply the add_columns function to the file\n",
    "        add_columns(input_file_path, output_file_path, \"x1cam1\" , \"x2cam1\", \"y1cam1\", \"y2cam1\") \n",
    "                    # **columns)"
   ]
  },
  {
   "cell_type": "code",
   "execution_count": 18,
   "metadata": {},
   "outputs": [
    {
     "name": "stdout",
     "output_type": "stream",
     "text": [
      "      frame  id             bb_left              bb_top            bb_width  \\\n",
      "0     frame  id               x_gp3               y_gp3     absolute_diff_x   \n",
      "1       500   0    22.1117640236609    71.4940451474169  2.1260957629416986   \n",
      "2       500   1    26.2083315332684     37.798650887857    5.54317590632521   \n",
      "3       500   2    25.8661712764858  23.462974953500904   7.506585344420202   \n",
      "4       500   3  27.010679065659502     24.449964336078   7.009375834794298   \n",
      "...     ...  ..                 ...                 ...                 ...   \n",
      "1271    550  20    101.712226122039  44.426436406307005   7.914250191535999   \n",
      "1272    550  21    84.5123547319489    28.3676662067971  4.8084333730586195   \n",
      "1273    550  22   84.50738313510911    46.3836920978013   7.732619826417491   \n",
      "1274    550  23    90.0628020287907    54.8373890933903  1.5079467906839028   \n",
      "1275    550  24    61.6320378696538    32.1440277754162   4.347077780532615   \n",
      "\n",
      "               bb_height  \n",
      "0        absolute_diff_y  \n",
      "1      8.636180836876605  \n",
      "2      4.879283994893299  \n",
      "3      4.895328577349499  \n",
      "4      1.783705880052704  \n",
      "...                  ...  \n",
      "1271  3.1750971328671014  \n",
      "1272   6.513577895829801  \n",
      "1273  1.2590639865779991  \n",
      "1274  2.9686200973335986  \n",
      "1275  1.9517689981235051  \n",
      "\n",
      "[10208 rows x 6 columns]\n"
     ]
    }
   ],
   "source": [
    "# def get_gt_tracks(data_folder):\n",
    "        # Initialize an empty DataFrame to store the ground truth data\n",
    "data_folder = \"/Users/fpfp2/Desktop/Masters Thesis/ParticleTracking/RodTracker/src/RodTracker/resources/example_data/csv_modified\"\n",
    "\n",
    "ground_truth_tracks = pd.DataFrame()\n",
    "\n",
    "# Iterate over each file in the ground truth folder\n",
    "for filename in os.listdir(data_folder):\n",
    "    if filename.endswith('.csv'):\n",
    "        # Construct the full path to the file\n",
    "        file_path = os.path.join(data_folder, filename)\n",
    "\n",
    "        # Read the CSV file into a DataFrame\n",
    "        gt_data = pd.read_csv(file_path, usecols=[4, 5, 6, 7, 8, 9], header=None)\n",
    "        # print(gt_data)\n",
    "\n",
    "        # Append the data to the ground truth DataFrame\n",
    "        ground_truth_tracks = pd.concat([ground_truth_tracks, gt_data])\n",
    "\n",
    "# Set default column names\n",
    "ground_truth_tracks.columns = [\"frame\", \"id\", \"bb_left\", \"bb_top\", \"bb_width\", \"bb_height\"]\n",
    "\n",
    "# Remove invalid ground truth tracks\n",
    "# ground_truth_tracks = ground_truth_tracks[ground_truth_tracks[\"valid\"] == 1].drop(columns=[\"valid\"])\n",
    "\n",
    "print(ground_truth_tracks)"
   ]
  },
  {
   "cell_type": "code",
   "execution_count": null,
   "metadata": {},
   "outputs": [],
   "source": []
  }
 ],
 "metadata": {
  "kernelspec": {
   "display_name": "RodTracker",
   "language": "python",
   "name": "python3"
  },
  "language_info": {
   "codemirror_mode": {
    "name": "ipython",
    "version": 3
   },
   "file_extension": ".py",
   "mimetype": "text/x-python",
   "name": "python",
   "nbconvert_exporter": "python",
   "pygments_lexer": "ipython3",
   "version": "3.10.13"
  }
 },
 "nbformat": 4,
 "nbformat_minor": 2
}
